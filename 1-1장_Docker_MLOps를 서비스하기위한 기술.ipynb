{
 "cells": [
  {
   "cell_type": "markdown",
   "metadata": {},
   "source": [
    "# Part1. MLOps = ML + DevOps : 머신러닝을 서비스화하기 위한 기술 개요\n",
    "- 머신러닝모델을 서비스하기 위해서는 성능하락요인, 시스템환경, 데이터분포가 변하지 않는지 계속 확인을 해줘야한다.\n",
    "\n",
    "#### 머신러닝 프로젝트 중 SW 프로젝트의 유사성\n",
    "- 버전관리(데이터, 모델)\n",
    "- 테스트 자동화(모델 학습 자동화, 모델 성능평가 자동화)\n",
    "- 모니터링(데이터변화 모니터링, 시스템 안정성 모니터링)\n",
    "\n",
    "#### 머신러닝 프로젝트 중 SW 프로젝트의 차이점\n",
    "- ML 프로젝트와 SW 프로젝트 차이는 데이터이다. (데이터가 더 중요함)\n",
    "- MLOps = ML + DevOps 결합이다.\n",
    "- MLOps는 머신러닝을 효율적으로 개발하고 성공적으로 서비스하기 위한 분야\n",
    "\n",
    "### 2. MLOps 구성요소\n",
    "- 1. 데이터\n",
    "    - 1. 데이터수집 파이프라인 \n",
    "        - Sqoop, Flume, Kafka, Flink, Spark Streaming, Airflow\n",
    "    - 2. 데이터저장\n",
    "        - MySQL, Hadoop, Amazon S3, MinlO\n",
    "    - 3. 데이터관리\n",
    "        - TFDV, DVC, Feast, Amundsen\n",
    "- 2. 모델\n",
    "    - 1. 모델개발\n",
    "        - jupyter Hub, Docker, Kuberflow, Optuna, Ray, katib\n",
    "    - 2. 모델버전관리\n",
    "        - Git, MLflow, Github Action, Jenkins\n",
    "    - 3. 모델학습, 스케줄링 관리\n",
    "        - Grafana, Kubermetes\n",
    "- 3. 서빙 : 서버에서 API 형태로 제공하는 서비스를 서빙이라고 한다.\n",
    "    - 1. 모델 패키징\n",
    "        - Docker, Flask, FastAPI, BentoML, Kubeflow, TFServing, seldon-core\n",
    "    - 2. 서빙 모니터링\n",
    "        - Prometheus, Grafana, Thanos\n",
    "    - 3. 파이프라인 매니징\n",
    "        - Kuberflow, argo workflows, Airflow\n",
    "- TOTAL 솔루션\n",
    "    - AWS SageMaker(아마존), GCP Vertex AI(구글), Azure Machine Learning(마이크로소프트)\n",
    "- TOTAL 솔루션은 유료이므로, 각 구성요소 중 오픈소스를 중심으로 교육할 예정임"
   ]
  },
  {
   "cell_type": "markdown",
   "metadata": {},
   "source": [
    "# Part2. 도커와 쿠버네티스 : MLOps에서 쿠버네티스가 필요한 이유\n",
    "\n",
    "### 1. MLOps의 전제조건\n",
    "- 1. Reproducibility : 실행환경의 일관성 & 독립성\n",
    "- 2. job scheduling : 스케줄 관리, 병렬 작업관리 \n",
    "- 3. Auto-healing & Auto-scaling : 장애대응, 트래픽 대응\n",
    "\n",
    "- Containerization : 컨네이너화 하는 기술\n",
    "- Container : 격리된 공간에서 프로세스를 실행시킬 수 있는 기술\n",
    "- Container Orchestration : 분산처리기술\n",
    "    - 여러명이 서로 서버를 공유하며 각자의 모델 학습을 돌리고자 할때 사용한다고 이해하면 될 듯\n",
    "\n",
    "### 2. 도커화한다 → Dockerize\n",
    "- 한번 빌드하면 어떤 운영체제에서도 실행가능하게끔 한다.\n",
    "\n",
    "### 3. 도커 실습\n"
   ]
  },
  {
   "cell_type": "code",
   "execution_count": 1,
   "metadata": {},
   "outputs": [
    {
     "name": "stdout",
     "output_type": "stream",
     "text": [
      "[sudo] password for xy7648: \n"
     ]
    }
   ],
   "source": [
    "# !sudo apt-get update\n",
    "\n",
    "# !sudo apt-get install apt-transport-https    \n",
    "# !sudo apt-get install ca-certificates\n",
    "# !sudo apt-get install curl\n",
    "# !sudo apt-get install gnupg\n",
    "# !sudo apt-get install lsb-release\n",
    "\n",
    "# curl -fsSL https://download.docker.com/linux/ubuntu/gpg | sudo gpg --dearmor -o /usr/share/keyrings/docker-archive-keyring.gpg\n",
    "\n",
    "# echo \"deb [arch=amd64 signed-by=/usr/share/keyrings/docker-archive-keyring.gpg] https://download.docker.com/linux/ubuntu $(lsb_release -cs) stable\" | sudo tee /etc/apt/sources.list.d/docker.list > /dev/null\n",
    "# echo \"deb [arch=arm64 signed-by=/usr/share/keyrings/docker-archive-keyring.gpg] https://download.docker.com/linux/ubuntu $(lsb_release -cs) stable\" | sudo tee /etc/apt/sources.list.d/docker.list > /dev/null\n",
    "\n",
    "# sudo apt-get update\n",
    "# sudo apt-get install docker-ce docker-ce-cli containerd.iofastcampusdemo\n",
    "\n",
    "# sudo usermod -aG docker $USER\n",
    "# source /mnt/d/ubu/mmlab/bin/activate\n",
    "# docker run hello-world\n",
    "\n",
    "# sudo service docker start : 도커시작\n",
    "# sudo service docker status\n"
   ]
  },
  {
   "cell_type": "markdown",
   "metadata": {},
   "source": [
    "### 도커 권한 설정\n",
    "- 현재는 모든 docker 관련 작업이 root 유저에게만 권한이 있기 때문에, docker 관련 명령을 수행하려면 sudo 를 앞에 붙여주어야만 가능합니다."
   ]
  },
  {
   "cell_type": "code",
   "execution_count": 5,
   "metadata": {},
   "outputs": [
    {
     "name": "stdout",
     "output_type": "stream",
     "text": [
      "\n",
      "Hello from Docker!\n",
      "This message shows that your installation appears to be working correctly.\n",
      "\n",
      "To generate this message, Docker took the following steps:\n",
      " 1. The Docker client contacted the Docker daemon.\n",
      " 2. The Docker daemon pulled the \"hello-world\" image from the Docker Hub.\n",
      "    (amd64)\n",
      " 3. The Docker daemon created a new container from that image which runs the\n",
      "    executable that produces the output you are currently reading.\n",
      " 4. The Docker daemon streamed that output to the Docker client, which sent it\n",
      "    to your terminal.\n",
      "\n",
      "To try something more ambitious, you can run an Ubuntu container with:\n",
      " $ docker run -it ubuntu bash\n",
      "\n",
      "Share images, automate workflows, and more with a free Docker ID:\n",
      " https://hub.docker.com/\n",
      "\n",
      "For more examples and ideas, visit:\n",
      " https://docs.docker.com/get-started/\n",
      "\n",
      "CONTAINER ID   IMAGE     COMMAND   CREATED   STATUS    PORTS     NAMES\n"
     ]
    }
   ],
   "source": [
    "!docker run hello-world\n",
    "!docker ps"
   ]
  },
  {
   "cell_type": "markdown",
   "metadata": {},
   "source": [
    "### 3. Docker 의 기본적인 명령\n",
    "#### 1) Docker pull\n",
    "- docker image repository 부터 Docker image 를 가져오는 커맨드입니다.\n"
   ]
  },
  {
   "cell_type": "code",
   "execution_count": 6,
   "metadata": {},
   "outputs": [
    {
     "name": "stdout",
     "output_type": "stream",
     "text": [
      "\n",
      "Usage:  docker pull [OPTIONS] NAME[:TAG|@DIGEST]\n",
      "\n",
      "Download an image from a registry\n",
      "\n",
      "Aliases:\n",
      "  docker image pull, docker pull\n",
      "\n",
      "Options:\n",
      "  -a, --all-tags                Download all tagged images in the repository\n",
      "      --disable-content-trust   Skip image verification (default true)\n",
      "      --platform string         Set platform if server is multi-platform\n",
      "                                capable\n",
      "  -q, --quiet                   Suppress verbose output\n"
     ]
    }
   ],
   "source": [
    "!docker pull --help"
   ]
  },
  {
   "cell_type": "code",
   "execution_count": 7,
   "metadata": {},
   "outputs": [
    {
     "name": "stdout",
     "output_type": "stream",
     "text": [
      "18.04: Pulling from library/ubuntu\n",
      "\n",
      "\u001b[1B7f213c76: Pull complete .69MB/25.69MBB\u001b[1A\u001b[2K\u001b[1A\u001b[2K\u001b[1A\u001b[2K\u001b[1A\u001b[2K\u001b[1A\u001b[2K\u001b[1A\u001b[2K\u001b[1A\u001b[2K\u001b[1A\u001b[2K\u001b[1A\u001b[2K\u001b[1A\u001b[2K\u001b[1A\u001b[2K\u001b[1A\u001b[2K\u001b[1A\u001b[2K\u001b[1A\u001b[2K\u001b[1A\u001b[2K\u001b[1A\u001b[2K\u001b[1A\u001b[2K\u001b[1A\u001b[2K\u001b[1A\u001b[2K\u001b[1A\u001b[2K\u001b[1A\u001b[2K\u001b[1A\u001b[2K\u001b[1A\u001b[2K\u001b[1A\u001b[2K\u001b[1A\u001b[2K\u001b[1A\u001b[2K\u001b[1A\u001b[2K\u001b[1A\u001b[2K\u001b[1A\u001b[2K\u001b[1A\u001b[2K\u001b[1A\u001b[2K\u001b[1A\u001b[2K\u001b[1A\u001b[2K\u001b[1A\u001b[2K\u001b[1A\u001b[2K\u001b[1A\u001b[2K\u001b[1A\u001b[2K\u001b[1A\u001b[2K\u001b[1A\u001b[2K\u001b[1A\u001b[2KDigest: sha256:152dc042452c496007f07ca9127571cb9c29697f42acbfad72324b2bb2e43c98\n",
      "Status: Downloaded newer image for ubuntu:18.04\n",
      "docker.io/library/ubuntu:18.04\n"
     ]
    }
   ],
   "source": [
    "!docker pull ubuntu:18.04"
   ]
  },
  {
   "cell_type": "code",
   "execution_count": 8,
   "metadata": {},
   "outputs": [
    {
     "name": "stdout",
     "output_type": "stream",
     "text": [
      "\n",
      "Usage:  docker images [OPTIONS] [REPOSITORY[:TAG]]\n",
      "\n",
      "List images\n",
      "\n",
      "Aliases:\n",
      "  docker image ls, docker image list, docker images\n",
      "\n",
      "Options:\n",
      "  -a, --all             Show all images (default hides intermediate images)\n",
      "      --digests         Show digests\n",
      "  -f, --filter filter   Filter output based on conditions provided\n",
      "      --format string   Format output using a custom template:\n",
      "                        'table':            Print output in table format\n",
      "                        with column headers (default)\n",
      "                        'table TEMPLATE':   Print output in table format\n",
      "                        using the given Go template\n",
      "                        'json':             Print in JSON format\n",
      "                        'TEMPLATE':         Print output using the given\n",
      "                        Go template.\n",
      "                        Refer to https://docs.docker.com/go/formatting/\n",
      "                        for more information about formatting output with\n",
      "                        templates\n",
      "      --no-trunc        Don't truncate output\n",
      "  -q, --quiet           Only show image IDs\n"
     ]
    }
   ],
   "source": [
    "!docker images --help"
   ]
  },
  {
   "cell_type": "code",
   "execution_count": 9,
   "metadata": {},
   "outputs": [
    {
     "name": "stdout",
     "output_type": "stream",
     "text": [
      "REPOSITORY    TAG       IMAGE ID       CREATED       SIZE\n",
      "ubuntu        18.04     f9a80a55f492   2 weeks ago   63.2MB\n",
      "hello-world   latest    9c7a54a9a43c   6 weeks ago   13.3kB\n"
     ]
    }
   ],
   "source": [
    "!docker images"
   ]
  },
  {
   "cell_type": "markdown",
   "metadata": {},
   "source": [
    "### 3) Docker ps\n",
    "\n",
    "- 현재 실행중인 도커 컨테이너 리스트를 출력하는 커맨드입니다."
   ]
  },
  {
   "cell_type": "code",
   "execution_count": 12,
   "metadata": {},
   "outputs": [
    {
     "name": "stdout",
     "output_type": "stream",
     "text": [
      "CONTAINER ID   IMAGE     COMMAND   CREATED   STATUS    PORTS     NAMES\n"
     ]
    }
   ],
   "source": [
    "!docker ps"
   ]
  },
  {
   "cell_type": "code",
   "execution_count": 14,
   "metadata": {},
   "outputs": [
    {
     "name": "stdout",
     "output_type": "stream",
     "text": [
      "CONTAINER ID   IMAGE         COMMAND    CREATED       STATUS                   PORTS     NAMES\n",
      "e1eac640dd92   hello-world   \"/hello\"   8 hours ago   Exited (0) 8 hours ago             sad_lamarr\n",
      "cafeb8fda870   hello-world   \"/hello\"   8 hours ago   Exited (0) 8 hours ago             romantic_mclean\n",
      "043c64af42dd   hello-world   \"/hello\"   8 hours ago   Exited (0) 8 hours ago             elegant_bhabha\n"
     ]
    }
   ],
   "source": [
    "!docker ps -a"
   ]
  },
  {
   "cell_type": "markdown",
   "metadata": {},
   "source": [
    "### 4) Docker run\n",
    "\n",
    "- 도커 컨테이너를 실행시키는 커맨드입니다."
   ]
  },
  {
   "cell_type": "code",
   "execution_count": 15,
   "metadata": {},
   "outputs": [
    {
     "name": "stdout",
     "output_type": "stream",
     "text": [
      "\n",
      "Usage:  docker run [OPTIONS] IMAGE [COMMAND] [ARG...]\n",
      "\n",
      "Create and run a new container from an image\n",
      "\n",
      "Aliases:\n",
      "  docker container run, docker run\n",
      "\n",
      "Options:\n",
      "      --add-host list                  Add a custom host-to-IP mapping\n",
      "                                       (host:ip)\n",
      "      --annotation map                 Add an annotation to the container\n",
      "                                       (passed through to the OCI\n",
      "                                       runtime) (default map[])\n",
      "  -a, --attach list                    Attach to STDIN, STDOUT or STDERR\n",
      "      --blkio-weight uint16            Block IO (relative weight),\n",
      "                                       between 10 and 1000, or 0 to\n",
      "                                       disable (default 0)\n",
      "      --blkio-weight-device list       Block IO weight (relative device\n",
      "                                       weight) (default [])\n",
      "      --cap-add list                   Add Linux capabilities\n",
      "      --cap-drop list                  Drop Linux capabilities\n",
      "      --cgroup-parent string           Optional parent cgroup for the\n",
      "                                       container\n",
      "      --cgroupns string                Cgroup namespace to use\n",
      "                                       (host|private)\n",
      "                                       'host':    Run the container in\n",
      "                                       the Docker host's cgroup namespace\n",
      "                                       'private': Run the container in\n",
      "                                       its own private cgroup namespace\n",
      "                                       '':        Use the cgroup\n",
      "                                       namespace as configured by the\n",
      "                                                  default-cgroupns-mode\n",
      "                                       option on the daemon (default)\n",
      "      --cidfile string                 Write the container ID to the file\n",
      "      --cpu-period int                 Limit CPU CFS (Completely Fair\n",
      "                                       Scheduler) period\n",
      "      --cpu-quota int                  Limit CPU CFS (Completely Fair\n",
      "                                       Scheduler) quota\n",
      "      --cpu-rt-period int              Limit CPU real-time period in\n",
      "                                       microseconds\n",
      "      --cpu-rt-runtime int             Limit CPU real-time runtime in\n",
      "                                       microseconds\n",
      "  -c, --cpu-shares int                 CPU shares (relative weight)\n",
      "      --cpus decimal                   Number of CPUs\n",
      "      --cpuset-cpus string             CPUs in which to allow execution\n",
      "                                       (0-3, 0,1)\n",
      "      --cpuset-mems string             MEMs in which to allow execution\n",
      "                                       (0-3, 0,1)\n",
      "  -d, --detach                         Run container in background and\n",
      "                                       print container ID\n",
      "      --detach-keys string             Override the key sequence for\n",
      "                                       detaching a container\n",
      "      --device list                    Add a host device to the container\n",
      "      --device-cgroup-rule list        Add a rule to the cgroup allowed\n",
      "                                       devices list\n",
      "      --device-read-bps list           Limit read rate (bytes per second)\n",
      "                                       from a device (default [])\n",
      "      --device-read-iops list          Limit read rate (IO per second)\n",
      "                                       from a device (default [])\n",
      "      --device-write-bps list          Limit write rate (bytes per\n",
      "                                       second) to a device (default [])\n",
      "      --device-write-iops list         Limit write rate (IO per second)\n",
      "                                       to a device (default [])\n",
      "      --disable-content-trust          Skip image verification (default true)\n",
      "      --dns list                       Set custom DNS servers\n",
      "      --dns-option list                Set DNS options\n",
      "      --dns-search list                Set custom DNS search domains\n",
      "      --domainname string              Container NIS domain name\n",
      "      --entrypoint string              Overwrite the default ENTRYPOINT\n",
      "                                       of the image\n",
      "  -e, --env list                       Set environment variables\n",
      "      --env-file list                  Read in a file of environment variables\n",
      "      --expose list                    Expose a port or a range of ports\n",
      "      --gpus gpu-request               GPU devices to add to the\n",
      "                                       container ('all' to pass all GPUs)\n",
      "      --group-add list                 Add additional groups to join\n",
      "      --health-cmd string              Command to run to check health\n",
      "      --health-interval duration       Time between running the check\n",
      "                                       (ms|s|m|h) (default 0s)\n",
      "      --health-retries int             Consecutive failures needed to\n",
      "                                       report unhealthy\n",
      "      --health-start-period duration   Start period for the container to\n",
      "                                       initialize before starting\n",
      "                                       health-retries countdown\n",
      "                                       (ms|s|m|h) (default 0s)\n",
      "      --health-timeout duration        Maximum time to allow one check to\n",
      "                                       run (ms|s|m|h) (default 0s)\n",
      "      --help                           Print usage\n",
      "  -h, --hostname string                Container host name\n",
      "      --init                           Run an init inside the container\n",
      "                                       that forwards signals and reaps\n",
      "                                       processes\n",
      "  -i, --interactive                    Keep STDIN open even if not attached\n",
      "      --ip string                      IPv4 address (e.g., 172.30.100.104)\n",
      "      --ip6 string                     IPv6 address (e.g., 2001:db8::33)\n",
      "      --ipc string                     IPC mode to use\n",
      "      --isolation string               Container isolation technology\n",
      "      --kernel-memory bytes            Kernel memory limit\n",
      "  -l, --label list                     Set meta data on a container\n",
      "      --label-file list                Read in a line delimited file of labels\n",
      "      --link list                      Add link to another container\n",
      "      --link-local-ip list             Container IPv4/IPv6 link-local\n",
      "                                       addresses\n",
      "      --log-driver string              Logging driver for the container\n",
      "      --log-opt list                   Log driver options\n",
      "      --mac-address string             Container MAC address (e.g.,\n",
      "                                       92:d0:c6:0a:29:33)\n",
      "  -m, --memory bytes                   Memory limit\n",
      "      --memory-reservation bytes       Memory soft limit\n",
      "      --memory-swap bytes              Swap limit equal to memory plus\n",
      "                                       swap: '-1' to enable unlimited swap\n",
      "      --memory-swappiness int          Tune container memory swappiness\n",
      "                                       (0 to 100) (default -1)\n",
      "      --mount mount                    Attach a filesystem mount to the\n",
      "                                       container\n",
      "      --name string                    Assign a name to the container\n",
      "      --network network                Connect a container to a network\n",
      "      --network-alias list             Add network-scoped alias for the\n",
      "                                       container\n",
      "      --no-healthcheck                 Disable any container-specified\n",
      "                                       HEALTHCHECK\n",
      "      --oom-kill-disable               Disable OOM Killer\n",
      "      --oom-score-adj int              Tune host's OOM preferences (-1000\n",
      "                                       to 1000)\n",
      "      --pid string                     PID namespace to use\n",
      "      --pids-limit int                 Tune container pids limit (set -1\n",
      "                                       for unlimited)\n",
      "      --platform string                Set platform if server is\n",
      "                                       multi-platform capable\n",
      "      --privileged                     Give extended privileges to this\n",
      "                                       container\n",
      "  -p, --publish list                   Publish a container's port(s) to\n",
      "                                       the host\n",
      "  -P, --publish-all                    Publish all exposed ports to\n",
      "                                       random ports\n",
      "      --pull string                    Pull image before running\n",
      "                                       (\"always\", \"missing\", \"never\")\n",
      "                                       (default \"missing\")\n",
      "  -q, --quiet                          Suppress the pull output\n",
      "      --read-only                      Mount the container's root\n",
      "                                       filesystem as read only\n",
      "      --restart string                 Restart policy to apply when a\n",
      "                                       container exits (default \"no\")\n",
      "      --rm                             Automatically remove the container\n",
      "                                       when it exits\n",
      "      --runtime string                 Runtime to use for this container\n",
      "      --security-opt list              Security Options\n",
      "      --shm-size bytes                 Size of /dev/shm\n",
      "      --sig-proxy                      Proxy received signals to the\n",
      "                                       process (default true)\n",
      "      --stop-signal string             Signal to stop the container\n",
      "      --stop-timeout int               Timeout (in seconds) to stop a\n",
      "                                       container\n",
      "      --storage-opt list               Storage driver options for the\n",
      "                                       container\n",
      "      --sysctl map                     Sysctl options (default map[])\n",
      "      --tmpfs list                     Mount a tmpfs directory\n",
      "  -t, --tty                            Allocate a pseudo-TTY\n",
      "      --ulimit ulimit                  Ulimit options (default [])\n",
      "  -u, --user string                    Username or UID (format:\n",
      "                                       <name|uid>[:<group|gid>])\n",
      "      --userns string                  User namespace to use\n",
      "      --uts string                     UTS namespace to use\n",
      "  -v, --volume list                    Bind mount a volume\n",
      "      --volume-driver string           Optional volume driver for the\n",
      "                                       container\n",
      "      --volumes-from list              Mount volumes from the specified\n",
      "                                       container(s)\n",
      "  -w, --workdir string                 Working directory inside the container\n"
     ]
    }
   ],
   "source": [
    "!docker run --help"
   ]
  },
  {
   "cell_type": "code",
   "execution_count": 16,
   "metadata": {},
   "outputs": [
    {
     "name": "stdout",
     "output_type": "stream",
     "text": [
      "\u001b]0;root@752ba9469e25: /\u0007root@752ba9469e25:/# ^C\n",
      "\n",
      "\u001b]0;root@752ba9469e25: /\u0007root@752ba9469e25:/# "
     ]
    }
   ],
   "source": [
    "!docker run -it --name demo1 ubuntu:18.04 /bin/bash"
   ]
  },
  {
   "cell_type": "markdown",
   "metadata": {},
   "source": [
    "- `-it` : `-i` 옵션 + `-t` 옵션\n",
    "    - container 를 실행시킴과 동시에 interactive 한 terminal 로 접속시켜주는 옵션 (컨테이너 내부로 접속)\n",
    "- `--name` : name\n",
    "    - 컨테이너 id 대신, 구분하기 쉽도록 지정해주는 이름\n",
    "- `/bin/bash`\n",
    "    - 컨테이너를 실행시킴과 동시에 실행할 커맨드로, `/bin/bash` 는 bash 터미널을 사용하는 것을 의미합니다."
   ]
  },
  {
   "cell_type": "code",
   "execution_count": 17,
   "metadata": {},
   "outputs": [
    {
     "name": "stdout",
     "output_type": "stream",
     "text": [
      "CONTAINER ID   IMAGE          COMMAND       CREATED              STATUS                        PORTS     NAMES\n",
      "752ba9469e25   ubuntu:18.04   \"/bin/bash\"   About a minute ago   Exited (130) 16 seconds ago             demo1\n",
      "e1eac640dd92   hello-world    \"/hello\"      8 hours ago          Exited (0) 8 hours ago                  sad_lamarr\n",
      "cafeb8fda870   hello-world    \"/hello\"      8 hours ago          Exited (0) 8 hours ago                  romantic_mclean\n",
      "043c64af42dd   hello-world    \"/hello\"      8 hours ago          Exited (0) 8 hours ago                  elegant_bhabha\n"
     ]
    }
   ],
   "source": [
    "!docker ps -a"
   ]
  },
  {
   "cell_type": "markdown",
   "metadata": {},
   "source": [
    "### 5) Docker exec\n",
    "\n",
    "- Docker 컨테이너 내부에서 명령을 내리거나, 내부로 접속하는 커맨드"
   ]
  },
  {
   "cell_type": "code",
   "execution_count": 18,
   "metadata": {},
   "outputs": [
    {
     "name": "stdout",
     "output_type": "stream",
     "text": [
      "\n",
      "Usage:  docker exec [OPTIONS] CONTAINER COMMAND [ARG...]\n",
      "\n",
      "Execute a command in a running container\n",
      "\n",
      "Aliases:\n",
      "  docker container exec, docker exec\n",
      "\n",
      "Options:\n",
      "  -d, --detach               Detached mode: run command in the background\n",
      "      --detach-keys string   Override the key sequence for detaching a\n",
      "                             container\n",
      "  -e, --env list             Set environment variables\n",
      "      --env-file list        Read in a file of environment variables\n",
      "  -i, --interactive          Keep STDIN open even if not attached\n",
      "      --privileged           Give extended privileges to the command\n",
      "  -t, --tty                  Allocate a pseudo-TTY\n",
      "  -u, --user string          Username or UID (format:\n",
      "                             \"<name|uid>[:<group|gid>]\")\n",
      "  -w, --workdir string       Working directory inside the container\n"
     ]
    }
   ],
   "source": [
    "!docker exec --help"
   ]
  },
  {
   "cell_type": "code",
   "execution_count": 19,
   "metadata": {},
   "outputs": [
    {
     "name": "stdout",
     "output_type": "stream",
     "text": [
      "40f3d113237d0824b1410de79d26dc5661991d6014f105cc4b4b2ea9018582a7\n"
     ]
    }
   ],
   "source": [
    "!docker run -it -d --name demo2 ubuntu:18.04"
   ]
  },
  {
   "cell_type": "code",
   "execution_count": 20,
   "metadata": {},
   "outputs": [
    {
     "name": "stdout",
     "output_type": "stream",
     "text": [
      "CONTAINER ID   IMAGE          COMMAND       CREATED          STATUS         PORTS     NAMES\n",
      "40f3d113237d   ubuntu:18.04   \"/bin/bash\"   10 seconds ago   Up 9 seconds             demo2\n"
     ]
    }
   ],
   "source": [
    "!docker ps"
   ]
  },
  {
   "cell_type": "markdown",
   "metadata": {},
   "source": [
    "- 컨테이너 내부로 들어가기"
   ]
  },
  {
   "cell_type": "code",
   "execution_count": 21,
   "metadata": {},
   "outputs": [
    {
     "name": "stdout",
     "output_type": "stream",
     "text": [
      "\u001b]0;root@40f3d113237d: /\u0007root@40f3d113237d:/# ^C\n",
      "\n",
      "\u001b]0;root@40f3d113237d: /\u0007root@40f3d113237d:/# "
     ]
    }
   ],
   "source": [
    "!docker exec -it demo2 /bin/bash\n",
    "# 나오기 exit"
   ]
  },
  {
   "cell_type": "markdown",
   "metadata": {},
   "source": [
    "### 6) Docker logs\n",
    "\n",
    "- 도커 컨테이너의 log 를 확인하는 커맨드"
   ]
  },
  {
   "cell_type": "code",
   "execution_count": 22,
   "metadata": {},
   "outputs": [
    {
     "name": "stdout",
     "output_type": "stream",
     "text": [
      "\n",
      "Usage:  docker logs [OPTIONS] CONTAINER\n",
      "\n",
      "Fetch the logs of a container\n",
      "\n",
      "Aliases:\n",
      "  docker container logs, docker logs\n",
      "\n",
      "Options:\n",
      "      --details        Show extra details provided to logs\n",
      "  -f, --follow         Follow log output\n",
      "      --since string   Show logs since timestamp (e.g.\n",
      "                       \"2013-01-02T13:23:37Z\") or relative (e.g. \"42m\"\n",
      "                       for 42 minutes)\n",
      "  -n, --tail string    Number of lines to show from the end of the logs\n",
      "                       (default \"all\")\n",
      "  -t, --timestamps     Show timestamps\n",
      "      --until string   Show logs before a timestamp (e.g.\n",
      "                       \"2013-01-02T13:23:37Z\") or relative (e.g. \"42m\"\n",
      "                       for 42 minutes)\n"
     ]
    }
   ],
   "source": [
    "!docker logs --help"
   ]
  },
  {
   "cell_type": "code",
   "execution_count": 23,
   "metadata": {},
   "outputs": [
    {
     "name": "stdout",
     "output_type": "stream",
     "text": [
      "Unable to find image 'busybox:latest' locally\n",
      "latest: Pulling from library/busybox\n",
      "\n",
      "\u001b[1B64a1ac7d: Pull complete 592MB/2.592MBB\u001b[1A\u001b[2K\u001b[1A\u001b[2K\u001b[1A\u001b[2K\u001b[1A\u001b[2K\u001b[1A\u001b[2K\u001b[1A\u001b[2KDigest: sha256:6e494387c901caf429c1bf77bd92fb82b33a68c0e19f6d1aa6a3ac8d27a7049d\n",
      "Status: Downloaded newer image for busybox:latest\n",
      "4fc27863299401c782a5d0b8761f50cb76f4acde5946f69ce24dff6df6430535\n"
     ]
    }
   ],
   "source": [
    "# busybox라는 이미지로 demo3 컨테이너를 실행한다. \n",
    "!docker run --name demo3 -d busybox sh -c \"while true; do $(echo date); sleep 1; done\""
   ]
  },
  {
   "cell_type": "code",
   "execution_count": 24,
   "metadata": {},
   "outputs": [
    {
     "name": "stdout",
     "output_type": "stream",
     "text": [
      "CONTAINER ID   IMAGE          COMMAND                  CREATED              STATUS              PORTS     NAMES\n",
      "4fc278632994   busybox        \"sh -c 'while true; …\"   About a minute ago   Up About a minute             demo3\n",
      "40f3d113237d   ubuntu:18.04   \"/bin/bash\"              7 minutes ago        Up 7 minutes                  demo2\n"
     ]
    }
   ],
   "source": [
    "!docker ps"
   ]
  },
  {
   "cell_type": "markdown",
   "metadata": {},
   "source": [
    "- test 라는 이름의 busybox 이미지를 백그라운드에서 도커 컨테이너로 실행하여, 1초에 한 번씩 현재 시간을 출력하는 커맨드"
   ]
  },
  {
   "cell_type": "code",
   "execution_count": 26,
   "metadata": {},
   "outputs": [
    {
     "name": "stdout",
     "output_type": "stream",
     "text": [
      "Sat Jun 17 01:44:46 UTC 2023\n",
      "Sat Jun 17 01:44:47 UTC 2023\n",
      "Sat Jun 17 01:44:48 UTC 2023\n",
      "Sat Jun 17 01:44:49 UTC 2023\n",
      "Sat Jun 17 01:44:50 UTC 2023\n",
      "Sat Jun 17 01:44:51 UTC 2023\n",
      "Sat Jun 17 01:44:52 UTC 2023\n",
      "Sat Jun 17 01:44:53 UTC 2023\n",
      "Sat Jun 17 01:44:54 UTC 2023\n",
      "Sat Jun 17 01:44:55 UTC 2023\n",
      "Sat Jun 17 01:44:56 UTC 2023\n",
      "Sat Jun 17 01:44:57 UTC 2023\n",
      "Sat Jun 17 01:44:58 UTC 2023\n",
      "Sat Jun 17 01:44:59 UTC 2023\n",
      "Sat Jun 17 01:45:00 UTC 2023\n",
      "Sat Jun 17 01:45:01 UTC 2023\n",
      "Sat Jun 17 01:45:02 UTC 2023\n",
      "Sat Jun 17 01:45:03 UTC 2023\n",
      "Sat Jun 17 01:45:04 UTC 2023\n",
      "Sat Jun 17 01:45:05 UTC 2023\n",
      "Sat Jun 17 01:45:06 UTC 2023\n",
      "Sat Jun 17 01:45:07 UTC 2023\n",
      "Sat Jun 17 01:45:08 UTC 2023\n",
      "Sat Jun 17 01:45:09 UTC 2023\n",
      "Sat Jun 17 01:45:10 UTC 2023\n",
      "Sat Jun 17 01:45:11 UTC 2023\n",
      "Sat Jun 17 01:45:12 UTC 2023\n",
      "Sat Jun 17 01:45:13 UTC 2023\n",
      "Sat Jun 17 01:45:14 UTC 2023\n",
      "Sat Jun 17 01:45:15 UTC 2023\n",
      "Sat Jun 17 01:45:16 UTC 2023\n",
      "Sat Jun 17 01:45:17 UTC 2023\n",
      "Sat Jun 17 01:45:18 UTC 2023\n",
      "Sat Jun 17 01:45:19 UTC 2023\n",
      "Sat Jun 17 01:45:20 UTC 2023\n",
      "Sat Jun 17 01:45:21 UTC 2023\n",
      "Sat Jun 17 01:45:22 UTC 2023\n",
      "Sat Jun 17 01:45:23 UTC 2023\n",
      "Sat Jun 17 01:45:24 UTC 2023\n",
      "Sat Jun 17 01:45:25 UTC 2023\n",
      "Sat Jun 17 01:45:26 UTC 2023\n",
      "Sat Jun 17 01:45:27 UTC 2023\n",
      "Sat Jun 17 01:45:28 UTC 2023\n",
      "Sat Jun 17 01:45:29 UTC 2023\n",
      "Sat Jun 17 01:45:30 UTC 2023\n",
      "Sat Jun 17 01:45:31 UTC 2023\n",
      "Sat Jun 17 01:45:32 UTC 2023\n",
      "Sat Jun 17 01:45:33 UTC 2023\n",
      "Sat Jun 17 01:45:34 UTC 2023\n",
      "Sat Jun 17 01:45:35 UTC 2023\n",
      "Sat Jun 17 01:45:36 UTC 2023\n",
      "Sat Jun 17 01:45:37 UTC 2023\n",
      "Sat Jun 17 01:45:38 UTC 2023\n",
      "Sat Jun 17 01:45:39 UTC 2023\n",
      "Sat Jun 17 01:45:40 UTC 2023\n",
      "Sat Jun 17 01:45:41 UTC 2023\n",
      "Sat Jun 17 01:45:42 UTC 2023\n",
      "Sat Jun 17 01:45:43 UTC 2023\n",
      "Sat Jun 17 01:45:44 UTC 2023\n",
      "Sat Jun 17 01:45:45 UTC 2023\n",
      "Sat Jun 17 01:45:46 UTC 2023\n",
      "Sat Jun 17 01:45:47 UTC 2023\n",
      "Sat Jun 17 01:45:48 UTC 2023\n",
      "Sat Jun 17 01:45:49 UTC 2023\n",
      "Sat Jun 17 01:45:50 UTC 2023\n",
      "Sat Jun 17 01:45:51 UTC 2023\n",
      "Sat Jun 17 01:45:52 UTC 2023\n",
      "Sat Jun 17 01:45:53 UTC 2023\n",
      "Sat Jun 17 01:45:54 UTC 2023\n",
      "Sat Jun 17 01:45:55 UTC 2023\n",
      "Sat Jun 17 01:45:56 UTC 2023\n",
      "Sat Jun 17 01:45:57 UTC 2023\n",
      "Sat Jun 17 01:45:58 UTC 2023\n",
      "Sat Jun 17 01:45:59 UTC 2023\n",
      "Sat Jun 17 01:46:00 UTC 2023\n",
      "Sat Jun 17 01:46:01 UTC 2023\n",
      "Sat Jun 17 01:46:02 UTC 2023\n",
      "Sat Jun 17 01:46:03 UTC 2023\n",
      "Sat Jun 17 01:46:04 UTC 2023\n",
      "Sat Jun 17 01:46:05 UTC 2023\n",
      "Sat Jun 17 01:46:06 UTC 2023\n",
      "Sat Jun 17 01:46:07 UTC 2023\n",
      "Sat Jun 17 01:46:09 UTC 2023\n",
      "Sat Jun 17 01:46:10 UTC 2023\n",
      "Sat Jun 17 01:46:11 UTC 2023\n",
      "Sat Jun 17 01:46:12 UTC 2023\n",
      "Sat Jun 17 01:46:13 UTC 2023\n",
      "Sat Jun 17 01:46:14 UTC 2023\n",
      "Sat Jun 17 01:46:15 UTC 2023\n",
      "Sat Jun 17 01:46:16 UTC 2023\n",
      "Sat Jun 17 01:46:17 UTC 2023\n",
      "Sat Jun 17 01:46:18 UTC 2023\n",
      "Sat Jun 17 01:46:19 UTC 2023\n",
      "Sat Jun 17 01:46:20 UTC 2023\n",
      "Sat Jun 17 01:46:21 UTC 2023\n",
      "Sat Jun 17 01:46:22 UTC 2023\n",
      "Sat Jun 17 01:46:23 UTC 2023\n",
      "Sat Jun 17 01:46:24 UTC 2023\n",
      "Sat Jun 17 01:46:25 UTC 2023\n",
      "Sat Jun 17 01:46:26 UTC 2023\n",
      "Sat Jun 17 01:46:27 UTC 2023\n",
      "Sat Jun 17 01:46:28 UTC 2023\n",
      "Sat Jun 17 01:46:29 UTC 2023\n",
      "Sat Jun 17 01:46:30 UTC 2023\n",
      "Sat Jun 17 01:46:31 UTC 2023\n",
      "Sat Jun 17 01:46:32 UTC 2023\n",
      "Sat Jun 17 01:46:33 UTC 2023\n",
      "Sat Jun 17 01:46:34 UTC 2023\n",
      "Sat Jun 17 01:46:35 UTC 2023\n",
      "Sat Jun 17 01:46:36 UTC 2023\n",
      "Sat Jun 17 01:46:37 UTC 2023\n",
      "Sat Jun 17 01:46:38 UTC 2023\n",
      "Sat Jun 17 01:46:39 UTC 2023\n",
      "Sat Jun 17 01:46:40 UTC 2023\n",
      "Sat Jun 17 01:46:41 UTC 2023\n",
      "Sat Jun 17 01:46:42 UTC 2023\n",
      "Sat Jun 17 01:46:43 UTC 2023\n",
      "Sat Jun 17 01:46:44 UTC 2023\n",
      "Sat Jun 17 01:46:45 UTC 2023\n",
      "Sat Jun 17 01:46:46 UTC 2023\n",
      "Sat Jun 17 01:46:47 UTC 2023\n",
      "Sat Jun 17 01:46:48 UTC 2023\n",
      "Sat Jun 17 01:46:49 UTC 2023\n",
      "Sat Jun 17 01:46:50 UTC 2023\n",
      "Sat Jun 17 01:46:51 UTC 2023\n",
      "Sat Jun 17 01:46:52 UTC 2023\n",
      "Sat Jun 17 01:46:53 UTC 2023\n",
      "Sat Jun 17 01:46:54 UTC 2023\n",
      "Sat Jun 17 01:46:55 UTC 2023\n",
      "Sat Jun 17 01:46:56 UTC 2023\n",
      "Sat Jun 17 01:46:57 UTC 2023\n",
      "Sat Jun 17 01:46:58 UTC 2023\n",
      "Sat Jun 17 01:46:59 UTC 2023\n",
      "Sat Jun 17 01:47:00 UTC 2023\n",
      "Sat Jun 17 01:47:01 UTC 2023\n",
      "Sat Jun 17 01:47:02 UTC 2023\n",
      "Sat Jun 17 01:47:03 UTC 2023\n",
      "Sat Jun 17 01:47:04 UTC 2023\n",
      "Sat Jun 17 01:47:05 UTC 2023\n",
      "Sat Jun 17 01:47:06 UTC 2023\n",
      "Sat Jun 17 01:47:07 UTC 2023\n",
      "Sat Jun 17 01:47:08 UTC 2023\n",
      "Sat Jun 17 01:47:09 UTC 2023\n",
      "Sat Jun 17 01:47:10 UTC 2023\n",
      "^C\n"
     ]
    }
   ],
   "source": [
    "# !docker logs demo3\n",
    "!docker logs demo3 -f # 계속해서 로그 추적하는 방법이 -f. -f 옵션: 계속 watch 하며 출력"
   ]
  },
  {
   "cell_type": "markdown",
   "metadata": {},
   "source": [
    "### 7) Docker stop\n",
    "\n",
    "- 실행 중인 도커 컨테이너를 중단시키는 커맨드"
   ]
  },
  {
   "cell_type": "code",
   "execution_count": 27,
   "metadata": {},
   "outputs": [
    {
     "name": "stdout",
     "output_type": "stream",
     "text": [
      "\n",
      "Usage:  docker stop [OPTIONS] CONTAINER [CONTAINER...]\n",
      "\n",
      "Stop one or more running containers\n",
      "\n",
      "Aliases:\n",
      "  docker container stop, docker stop\n",
      "\n",
      "Options:\n",
      "  -s, --signal string   Signal to send to the container\n",
      "  -t, --time int        Seconds to wait before killing the container\n"
     ]
    }
   ],
   "source": [
    "!docker stop --help"
   ]
  },
  {
   "cell_type": "code",
   "execution_count": 28,
   "metadata": {},
   "outputs": [
    {
     "name": "stdout",
     "output_type": "stream",
     "text": [
      "demo3\n",
      "demo2\n",
      "demo1\n"
     ]
    }
   ],
   "source": [
    "!docker stop demo3\n",
    "!docker stop demo2\n",
    "!docker stop demo1"
   ]
  },
  {
   "cell_type": "code",
   "execution_count": 29,
   "metadata": {},
   "outputs": [
    {
     "name": "stdout",
     "output_type": "stream",
     "text": [
      "CONTAINER ID   IMAGE     COMMAND   CREATED   STATUS    PORTS     NAMES\n"
     ]
    }
   ],
   "source": [
    "!docker ps"
   ]
  },
  {
   "cell_type": "markdown",
   "metadata": {},
   "source": [
    "### 8) Docker rm\n",
    "\n",
    "- 도커 컨테이너를 삭제하는 커맨드"
   ]
  },
  {
   "cell_type": "code",
   "execution_count": 30,
   "metadata": {},
   "outputs": [
    {
     "name": "stdout",
     "output_type": "stream",
     "text": [
      "\n",
      "Usage:  docker rm [OPTIONS] CONTAINER [CONTAINER...]\n",
      "\n",
      "Remove one or more containers\n",
      "\n",
      "Aliases:\n",
      "  docker container rm, docker container remove, docker rm\n",
      "\n",
      "Options:\n",
      "  -f, --force     Force the removal of a running container (uses SIGKILL)\n",
      "  -l, --link      Remove the specified link\n",
      "  -v, --volumes   Remove anonymous volumes associated with the container\n"
     ]
    }
   ],
   "source": [
    "!docker rm --help"
   ]
  },
  {
   "cell_type": "code",
   "execution_count": 31,
   "metadata": {},
   "outputs": [
    {
     "name": "stdout",
     "output_type": "stream",
     "text": [
      "demo3\n",
      "demo2\n",
      "demo1\n"
     ]
    }
   ],
   "source": [
    "!docker rm demo3\n",
    "!docker rm demo2\n",
    "!docker rm demo1"
   ]
  },
  {
   "cell_type": "markdown",
   "metadata": {},
   "source": [
    "- docker ps, docker ps -a 에서 모두 출력되지 않는 것을 확인하실 수 있습니다."
   ]
  },
  {
   "cell_type": "markdown",
   "metadata": {},
   "source": [
    "### 9) Docker rmi\n",
    "\n",
    "- 도커 이미지를 삭제하는 커맨드"
   ]
  },
  {
   "cell_type": "code",
   "execution_count": 32,
   "metadata": {},
   "outputs": [
    {
     "name": "stdout",
     "output_type": "stream",
     "text": [
      "\n",
      "Usage:  docker rmi [OPTIONS] IMAGE [IMAGE...]\n",
      "\n",
      "Remove one or more images\n",
      "\n",
      "Aliases:\n",
      "  docker image rm, docker image remove, docker rmi\n",
      "\n",
      "Options:\n",
      "  -f, --force      Force removal of the image\n",
      "      --no-prune   Do not delete untagged parents\n"
     ]
    }
   ],
   "source": [
    "!docker rmi --help"
   ]
  },
  {
   "cell_type": "code",
   "execution_count": 33,
   "metadata": {},
   "outputs": [
    {
     "name": "stdout",
     "output_type": "stream",
     "text": [
      "REPOSITORY    TAG       IMAGE ID       CREATED       SIZE\n",
      "busybox       latest    b539af69bc01   7 days ago    4.86MB\n",
      "ubuntu        18.04     f9a80a55f492   2 weeks ago   63.2MB\n",
      "hello-world   latest    9c7a54a9a43c   6 weeks ago   13.3kB\n"
     ]
    }
   ],
   "source": [
    "!docker images"
   ]
  },
  {
   "cell_type": "code",
   "execution_count": 41,
   "metadata": {},
   "outputs": [
    {
     "name": "stdout",
     "output_type": "stream",
     "text": [
      "Untagged: ubuntu:18.04\n",
      "Untagged: ubuntu@sha256:152dc042452c496007f07ca9127571cb9c29697f42acbfad72324b2bb2e43c98\n",
      "Deleted: sha256:f9a80a55f492e823bf5d51f1bd5f87ea3eed1cb31788686aa99a2fb61a27af6a\n",
      "Deleted: sha256:548a79621a426b4eb077c926eabac5a8620c454fb230640253e1b44dc7dd7562\n"
     ]
    }
   ],
   "source": [
    "# !docker rmi ubuntu -f\n",
    "!docker rmi ubuntu:18.04 -f"
   ]
  },
  {
   "cell_type": "code",
   "execution_count": 42,
   "metadata": {},
   "outputs": [
    {
     "name": "stdout",
     "output_type": "stream",
     "text": [
      "REPOSITORY    TAG       IMAGE ID       CREATED       SIZE\n",
      "busybox       latest    b539af69bc01   7 days ago    4.86MB\n",
      "hello-world   latest    9c7a54a9a43c   6 weeks ago   13.3kB\n"
     ]
    }
   ],
   "source": [
    "!docker images"
   ]
  },
  {
   "cell_type": "markdown",
   "metadata": {},
   "source": [
    "## 0. Docker Image\n",
    "\n",
    "- Docker image : 머신러닝 코드를 담은 패키지\n",
    "    - 어떤 애플리케이션에 대해서,\n",
    "    - 단순히 애플리케이션 코드뿐만이 아니라,\n",
    "    - 그 애플리케이션과 dependent 한 모든 것을 함께 패키징한 데이터\n",
    "- Dockerfile\n",
    "    - 사용자가 도커 이미지를 쉽게 만들 수 있도록, 제공하는 템플릿\n",
    "\n",
    "## 1. Dockerfile\n",
    "\n",
    "### 1) Dockerfile 만들기\n",
    "\n",
    "- `Dockerfile` 이라는 이름으로 빈 file 을 하나 만들어봅니다."
   ]
  },
  {
   "cell_type": "code",
   "execution_count": 44,
   "metadata": {},
   "outputs": [],
   "source": [
    "# home 디렉토리로 이동합니다.\n",
    "!cd $HOME\n",
    "# docker-practice 라는 이름의 폴더를 생성합니다.\n",
    "!mkdir docker-practice\n",
    "# docker-practice 폴더로 이동합니다.\n",
    "!cd docker-practice\n",
    "# Dockerfile 이라는 빈 파일을 생성합니다.\n",
    "!touch Dockerfile"
   ]
  },
  {
   "cell_type": "code",
   "execution_count": 45,
   "metadata": {},
   "outputs": [
    {
     "name": "stdout",
     "output_type": "stream",
     "text": [
      "'1장_MLOps를 서비스하기위한 기술.ipynb'   Dockerfile   docker-practice\n"
     ]
    }
   ],
   "source": [
    "# 정상적으로 생성되었는지 확인합니다.\n",
    "!ls"
   ]
  },
  {
   "cell_type": "code",
   "execution_count": 48,
   "metadata": {},
   "outputs": [
    {
     "name": "stdout",
     "output_type": "stream",
     "text": [
      "\u001b7\u001b[?47h\u001b[>4;2m\u001b[?1h\u001b=\u001b[?2004h\u001b[1;24r\u001b[?12h\u001b[?12l\u001b[22;2t\u001b[22;1t\u001b[29m\u001b[m\u001b[H\u001b[2J\u001b[?25l\u001b[24;1H\"Dockerfile\" 0L, 0C\u001b[2;1H▽\u001b[6n\u001b[2;1H  \u001b[1;1H\u001b[>c\u001b]10;?\u0007\u001b]11;?\u0007\u001b[2;1H\u001b[1m\u001b[34m~                                                                               \u001b[3;1H~                                                                               \u001b[4;1H~                                                                               \u001b[5;1H~                                                                               \u001b[6;1H~                                                                               \u001b[7;1H~                                                                               \u001b[8;1H~                                                                               \u001b[9;1H~                                                                               \u001b[10;1H~                                                                               \u001b[11;1H~                                                                               \u001b[12;1H~                                                                               \u001b[13;1H~                                                                               \u001b[14;1H~                                                                               \u001b[15;1H~                                                                               \u001b[16;1H~                                                                               \u001b[17;1H~                                                                               \u001b[18;1H~                                                                               \u001b[19;1H~                                                                               \u001b[20;1H~                                                                               \u001b[21;1H~                                                                               \u001b[22;1H~                                                                               \u001b[23;1H~                                                                               \u001b[m\u001b[24;63H0,0-1\u001b[9CAll\u001b[1;1H\u001b[?25h\u001b[?25l\u001b[24;1HType  :qa  and press <Enter> to exit Vim\u001b[24;63H\u001b[K\u0007\u001b[24;63H0,0-1\u001b[9CAll\u001b[1;1H\u001b[?25h"
     ]
    }
   ],
   "source": [
    "!vi Dockerfile # 도커 파일 열기"
   ]
  },
  {
   "cell_type": "markdown",
   "metadata": {},
   "source": [
    "### 2) 기본 명령어\n",
    "\n",
    "- Dockerfile 에서 사용할 수 있는 기본적인 명령어에 대해서 하나씩 알아보겠습니다.\n",
    "    - 지금 모든 사용법을 자세히 알아야 할 필요는 없으며, 필요한 경우에 구글링할 수 있을 정도면 충분합니다.\n",
    "### **FROM** : 어떤 base image를 사용할거냐?\n",
    "    - Dockerfile 이 base image 로 어떠한 이미지를 사용할 것인지를 명시하는 명령어입니다.\n",
    "    - 처음 일부분은 사전에 만들어진 이미지를 참조하게되는데 이를 base image라 함\n",
    "\n",
    "\n",
    "\n",
    "-  예시\n",
    "- $FROM <image>[:<tag>] [AS <name>]$\n",
    "- FROM ubuntu\n",
    "- FROM ubuntu:18.04\n",
    "- FROM nginx:latest AS ngx\n",
    "\n",
    "### **COPY**\n",
    "    - <src> 의 파일 혹은 디렉토리를 <dest> 경로에 복사하는 명령어입니다.\n",
    "-  예시\n",
    "- $COPY <src>... <dest>$\n",
    "- COPY a.txt /some-directory/b.txt\n",
    "- COPY my-directory /some-directory-2\n",
    "1\n",
    "### **RUN**\n",
    "    - 명시한 커맨드를 도커 컨테이너에서 실행하는 것을 명시하는 명령어입니다.\n",
    "- 예시\n",
    "- $RUN <command>$\n",
    "- RUN [\"executable-command\", \"parameter1\", \"parameter2\"]\n",
    "- RUN pip install torch\n",
    "- RUN pip install -r requirements.txt\n",
    "\n",
    "### **CMD**\n",
    "    - 명시한 커맨드를 도커 컨테이너가 **시작될 때**, 실행하는 것을 명시하는 명령어입니다.\n",
    "        - 비슷한 역할을 하는 명령어로 **ENTRYPOINT** 가 있지만, 아직은 그 차이를 구분하기 어려울 수 있으므로 이번 강의에서는 **ENTRYPOINT** 에 대한 설명은 생략하겠습니다.\n",
    "    - 하나의 Docker Image 에서는 하나의 **CMD** 만 실행할 수 있다는 점에서 **RUN** 명령어와 다릅니다.\n",
    "- 예시\n",
    "- $CMD <command>$\n",
    "- CMD [\"executable-command\", \"parameter1\", \"parameter2\"]\n",
    "- CMD [\"parameter1\", \"parameter2\"] # ENTRYPOINT 와 함께 사용될 때\n",
    "- CMD python main.py\n",
    "- CMD \n",
    "\n",
    "### **WORKDIR**\n",
    "    - 이후 작성될 명령어를 컨테이너 내의 어떤 디렉토리에서 수행할 것인지를 명시하는 명령어입니다.\n",
    "    - 해당 디렉토리가 없다면 생성합니다.\n",
    "\n",
    "- 예시\n",
    "- $WORKDIR /path/to/workdir$\n",
    "- WORKDIR /home/demo\n",
    "\n",
    "### **ENV**\n",
    "    - 컨테이너 내부에서 지속적으로 사용될 environment variable 의 값을 설정하는 명령어입니다.\n",
    "\n",
    "- 예시\n",
    "- default 언어 설정\n",
    "- $ENV <key> <value>$\n",
    "- $ENV <key>=<value>$\n",
    "- RUN locale-gen ko_KR.UTF-8\n",
    "- ENV LANG ko_KR.UTF-8\n",
    "- ENV LANGUAGE ko_KR.UTF-8\n",
    "- ENV LC_ALL ko_KR.UTF-8\n",
    "\n",
    "### **EXPOSE**\n",
    "    - 컨테이너에서 뚫어줄 포트/프로토콜을 지정할 수 있습니다.\n",
    "    - protocol 을 지정하지 않으면 TCP 가 디폴트로 설정됩니다.\n",
    "\n",
    "\n",
    "- 예시\n",
    "- $EXPOSE <port>$\n",
    "- $EXPOSE <port>/<protocol>$\n",
    "- EXPOSE 8080\n",
    "\n",
    "### 3) 간단한 Dockerfile 작성해보기\n",
    "\n",
    "- `vi Dockerfile` 혹은 vscode 등 본인이 사용하는 편집기로 `Dockerfile` 을 열어 다음과 같이 작성해줍니다.\n",
    "\n",
    "## 2. Docker build from Dockerfile\n",
    "\n",
    "- `docker build` 명령어로 Dockerfile 로부터 Docker Image 를 만들어봅니다.\n",
    "- 설명\n",
    "    - `.` (**현재 경로**에 있는 Dockerfile 로부터)\n",
    "    - my-image 라는 **이름**과 v1.0.0 이라는 **태그**로 **이미지**를\n",
    "    - 빌드하겠다라는 명령어"
   ]
  },
  {
   "cell_type": "code",
   "execution_count": 11,
   "metadata": {},
   "outputs": [
    {
     "name": "stdout",
     "output_type": "stream",
     "text": [
      "DEPRECATED: The legacy builder is deprecated and will be removed in a future release.\n",
      "            Install the buildx component to build images with BuildKit:\n",
      "            https://docs.docker.com/go/buildx/\n",
      "\n",
      "\n",
      "Usage:  docker build [OPTIONS] PATH | URL | -\n",
      "\n",
      "Build an image from a Dockerfile\n",
      "\n",
      "Aliases:\n",
      "  docker image build, docker build, docker buildx build, docker builder build\n",
      "\n",
      "Options:\n",
      "      --add-host list           Add a custom host-to-IP mapping (\"host:ip\")\n",
      "      --build-arg list          Set build-time variables\n",
      "      --cache-from strings      Images to consider as cache sources\n",
      "      --cgroup-parent string    Optional parent cgroup for the container\n",
      "      --compress                Compress the build context using gzip\n",
      "      --cpu-period int          Limit the CPU CFS (Completely Fair\n",
      "                                Scheduler) period\n",
      "      --cpu-quota int           Limit the CPU CFS (Completely Fair\n",
      "                                Scheduler) quota\n",
      "  -c, --cpu-shares int          CPU shares (relative weight)\n",
      "      --cpuset-cpus string      CPUs in which to allow execution (0-3, 0,1)\n",
      "      --cpuset-mems string      MEMs in which to allow execution (0-3, 0,1)\n",
      "      --disable-content-trust   Skip image verification (default true)\n",
      "  -f, --file string             Name of the Dockerfile (Default is\n",
      "                                \"PATH/Dockerfile\")\n",
      "      --force-rm                Always remove intermediate containers\n",
      "      --iidfile string          Write the image ID to the file\n",
      "      --isolation string        Container isolation technology\n",
      "      --label list              Set metadata for an image\n",
      "  -m, --memory bytes            Memory limit\n",
      "      --memory-swap bytes       Swap limit equal to memory plus swap: -1\n",
      "                                to enable unlimited swap\n",
      "      --network string          Set the networking mode for the RUN\n",
      "                                instructions during build (default \"default\")\n",
      "      --no-cache                Do not use cache when building the image\n",
      "      --platform string         Set platform if server is multi-platform\n",
      "                                capable\n",
      "      --pull                    Always attempt to pull a newer version of\n",
      "                                the image\n",
      "  -q, --quiet                   Suppress the build output and print image\n",
      "                                ID on success\n",
      "      --rm                      Remove intermediate containers after a\n",
      "                                successful build (default true)\n",
      "      --security-opt strings    Security options\n",
      "      --shm-size bytes          Size of \"/dev/shm\"\n",
      "  -t, --tag list                Name and optionally a tag in the\n",
      "                                \"name:tag\" format\n",
      "      --target string           Set the target build stage to build.\n",
      "      --ulimit ulimit           Ulimit options (default [])\n",
      "DEPRECATED: The legacy builder is deprecated and will be removed in a future release.\n",
      "            Install the buildx component to build images with BuildKit:\n",
      "            https://docs.docker.com/go/buildx/\n",
      "\n",
      "Sending build context to Docker daemon  79.36kB\n",
      "Step 1/3 : FROM ubuntu:18.04\n",
      " ---> f9a80a55f492\n",
      "Step 2/3 : RUN apt-get update\n",
      " ---> Using cache\n",
      " ---> 6503b09a77e4\n",
      "Step 3/3 : CMD [\"echo\", \"Hello FastCampus\"]\n",
      " ---> Using cache\n",
      " ---> e6f4b951567d\n",
      "Successfully built e6f4b951567d\n",
      "Successfully tagged my-image:v1.0.0\n"
     ]
    }
   ],
   "source": [
    "!docker build --help\n",
    "# 자세한 옵션들에 대한 설명은 생략\n",
    "\n",
    "# Dockerfile이 있는 경로에서 다음 명령을 실행합니다.\n",
    "!docker build -t my-image:v1.0.0 ."
   ]
  },
  {
   "cell_type": "markdown",
   "metadata": {},
   "source": [
    "- 정상적으로 이미지 빌드되었는지 확인해보겠습니다.\n",
    "#### grep : my-image 가 있는지를 잡아내는 (grep) 하는 명령어"
   ]
  },
  {
   "cell_type": "code",
   "execution_count": 12,
   "metadata": {},
   "outputs": [
    {
     "name": "stdout",
     "output_type": "stream",
     "text": [
      "my-image      v1.0.0    e6f4b951567d   6 hours ago   109MB\n"
     ]
    }
   ],
   "source": [
    "!docker images | grep my-image"
   ]
  },
  {
   "cell_type": "code",
   "execution_count": 13,
   "metadata": {},
   "outputs": [
    {
     "name": "stdout",
     "output_type": "stream",
     "text": [
      "REPOSITORY    TAG       IMAGE ID       CREATED       SIZE\n",
      "my-image      v1.0.0    e6f4b951567d   6 hours ago   109MB\n",
      "registry      latest    4bb5ea59f8e0   2 days ago    24MB\n",
      "busybox       latest    b539af69bc01   7 days ago    4.86MB\n",
      "ubuntu        18.04     f9a80a55f492   2 weeks ago   63.2MB\n",
      "hello-world   latest    9c7a54a9a43c   6 weeks ago   13.3kB\n"
     ]
    }
   ],
   "source": [
    "!docker images"
   ]
  },
  {
   "cell_type": "markdown",
   "metadata": {},
   "source": [
    "- 그럼 이제 방금 빌드한 my-image:v1.0.0 이미지로 docker 컨테이너를 run 해보겠습니다."
   ]
  },
  {
   "cell_type": "code",
   "execution_count": 14,
   "metadata": {},
   "outputs": [
    {
     "name": "stdout",
     "output_type": "stream",
     "text": [
      "Hello FastCampus\n"
     ]
    }
   ],
   "source": [
    "!docker run my-image:v1.0.0\n",
    "\n",
    "# Hello FastCampus 가 출력되는 것 확인\n",
    "\n",
    "# sudo service docker start : 도커시작\n",
    "# sudo service docker status"
   ]
  },
  {
   "cell_type": "markdown",
   "metadata": {},
   "source": [
    "## 3. Docker Image 저장소\n",
    "\n",
    "### 1) Docker Registry\n",
    "\n",
    "- 공식 문서\n",
    "    - https://docs.docker.com/registry/\n",
    "- 간단하게 도커 레지스트리를 직접 띄워본 뒤에, 방금 빌드한 my-image:v1.0.0 을 도커 레지스트리에 push(업로드) 해보겠습니다.\n",
    "- Docker Registry 는 이미 잘 준비된 도커 컨테이너가 존재하므로, 쉽게 사용할 수 있습니다.\n",
    "- docker registry 를 띄워봅니다.\n",
    "\n",
    "#### 정상적으로 registry 이미지가 registry 라는 이름으로 생성되었음을 확인할 수 있습니다.\n",
    "#### localhost:5000 으로 해당 registry 와 통신할 수 있습니다."
   ]
  },
  {
   "cell_type": "code",
   "execution_count": 15,
   "metadata": {},
   "outputs": [
    {
     "name": "stdout",
     "output_type": "stream",
     "text": [
      "docker: Error response from daemon: Conflict. The container name \"/registry\" is already in use by container \"6eb927a2b82d900375dce5741bf577e0a7176e08d8e1a80669a52bbfdd599611\". You have to remove (or rename) that container to be able to reuse that name.\n",
      "See 'docker run --help'.\n"
     ]
    }
   ],
   "source": [
    "!docker run -d -p 5000:5000 --name registry registry"
   ]
  },
  {
   "cell_type": "code",
   "execution_count": 16,
   "metadata": {},
   "outputs": [
    {
     "name": "stdout",
     "output_type": "stream",
     "text": [
      "CONTAINER ID   IMAGE      COMMAND                  CREATED              STATUS              PORTS                                       NAMES\n",
      "6eb927a2b82d   registry   \"/entrypoint.sh /etc…\"   About a minute ago   Up About a minute   0.0.0.0:5000->5000/tcp, :::5000->5000/tcp   registry\n"
     ]
    }
   ],
   "source": [
    "!docker ps"
   ]
  },
  {
   "cell_type": "markdown",
   "metadata": {},
   "source": [
    "- my-image 를 방금 생성한 registry 를 바라보도록 tag 합니다."
   ]
  },
  {
   "cell_type": "code",
   "execution_count": 17,
   "metadata": {},
   "outputs": [],
   "source": [
    "!docker tag my-image:v1.0.0 localhost:5000/my-image:v1.0.0"
   ]
  },
  {
   "cell_type": "code",
   "execution_count": 18,
   "metadata": {},
   "outputs": [
    {
     "name": "stdout",
     "output_type": "stream",
     "text": [
      "my-image                  v1.0.0    e6f4b951567d   6 hours ago   109MB\n",
      "localhost:5000/my-image   v1.0.0    e6f4b951567d   6 hours ago   109MB\n"
     ]
    }
   ],
   "source": [
    "# localhost:5000/my-image:v1.0.0 로 새로 생성된 것을 확인할 수 있습니다.\n",
    "!docker images | grep my-image"
   ]
  },
  {
   "cell_type": "markdown",
   "metadata": {},
   "source": [
    "- my-image 를 registry 에 push 합니다. (업로드합니다.)"
   ]
  },
  {
   "cell_type": "code",
   "execution_count": 23,
   "metadata": {},
   "outputs": [
    {
     "name": "stdout",
     "output_type": "stream",
     "text": [
      "The push refers to repository [localhost:5000/my-image]\n",
      "\n",
      "\u001b[1B10446ad8: Preparing \n",
      "\u001b[1Bv1.0.0: digest: sha256:011feace534ad93a6782d29bfb71f5419981b8f08b5189285d7db27c41dc1136 size: 741\n"
     ]
    }
   ],
   "source": [
    "!docker push localhost:5000/my-image:v1.0.0"
   ]
  },
  {
   "cell_type": "markdown",
   "metadata": {},
   "source": [
    "- 정상적으로 push 되었는지 확인합니다."
   ]
  },
  {
   "cell_type": "code",
   "execution_count": 24,
   "metadata": {},
   "outputs": [
    {
     "name": "stdout",
     "output_type": "stream",
     "text": [
      "{\"repositories\":[\"my-image\"]}\n"
     ]
    }
   ],
   "source": [
    "# localhost:5000 이라는 registry 에 어떤 이미지가 저장되어 있는지 리스트를 출력하는 명령\n",
    "!curl -X GET http://localhost:5000/v2/_catalog"
   ]
  },
  {
   "cell_type": "code",
   "execution_count": 25,
   "metadata": {},
   "outputs": [
    {
     "name": "stdout",
     "output_type": "stream",
     "text": [
      "{\"name\":\"my-image\",\"tags\":[\"v1.0.0\"]}\n"
     ]
    }
   ],
   "source": [
    "# my-image 라는 이미지 네임에 어떤 태그가 저장되어있는지 리스트를 출력하는 명령\n",
    "!curl -X GET http://localhost:5000/v2/my-image/tags/list"
   ]
  },
  {
   "cell_type": "markdown",
   "metadata": {},
   "source": [
    "### 2) Docker Hub\n",
    "\n",
    "- 회원 가입\n",
    "    - hub.docker.com\n",
    "- Choose a Plan\n",
    "    - Free\n",
    "- docker login\n",
    "#### username = xy7648\n",
    "#### password = asdf5964!\n",
    "\n",
    "- Docker Hub 를 바라보도록 tag 생성\n",
    "    - $docker tag <image_name>:<tag_name> <user_name>/<image_name>:<tag>$\n",
    "    - docker tag my-image:v1.0.0 xy7648/my-image:v1.0.0\n",
    "- Docker image push to Docker Hub\n",
    "    - $docker push <user_name>/<image_name>:<tag>$\n",
    "    - docker push xy7648/my-image:v1.0.0"
   ]
  },
  {
   "cell_type": "code",
   "execution_count": null,
   "metadata": {},
   "outputs": [],
   "source": []
  }
 ],
 "metadata": {
  "kernelspec": {
   "display_name": "Python 3.8.10 ('mmlab')",
   "language": "python",
   "name": "python3"
  },
  "language_info": {
   "codemirror_mode": {
    "name": "ipython",
    "version": 3
   },
   "file_extension": ".py",
   "mimetype": "text/x-python",
   "name": "python",
   "nbconvert_exporter": "python",
   "pygments_lexer": "ipython3",
   "version": "3.8.10"
  },
  "orig_nbformat": 4,
  "vscode": {
   "interpreter": {
    "hash": "0457f5918104785c38ef19c900e9a21ea3c64da6c6040480a6e2c493dfc39606"
   }
  }
 },
 "nbformat": 4,
 "nbformat_minor": 2
}
